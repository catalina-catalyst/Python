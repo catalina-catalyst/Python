{
 "cells": [
  {
   "cell_type": "code",
   "execution_count": 12,
   "id": "110e127b",
   "metadata": {},
   "outputs": [
    {
     "name": "stdout",
     "output_type": "stream",
     "text": [
      "You guys have nothing to do! But this is great fun.\n"
     ]
    }
   ],
   "source": [
    "# Binary to Character\n",
    "binary_string = '01011001 01101111 01110101 00100000 01100111 01110101 01111001 01110011 00100000 01101000 01100001 01110110 01100101 00100000 01101110 01101111 01110100 01101000 01101001 01101110 01100111 00100000 01110100 01101111 00100000 01100100 01101111 00100001 00100000 01000010 01110101 01110100 00100000 01110100 01101000 01101001 01110011 00100000 01101001 01110011 00100000 01100111 01110010 01100101 01100001 01110100 00100000 01100110 01110101 01101110 00101110'\n",
    "characters = ''.join([chr(int(x, 2)) for x in binary_string.split()])\n",
    "print(characters)\n"
   ]
  },
  {
   "cell_type": "code",
   "execution_count": 6,
   "id": "73f0b867",
   "metadata": {},
   "outputs": [
    {
     "name": "stdout",
     "output_type": "stream",
     "text": [
      "lol\n"
     ]
    }
   ],
   "source": [
    "binary_string = '01101100 01101111 01101100'\n",
    "characters = ''.join([chr(int(x, 2)) for x in binary_string.split()])\n",
    "print(characters)\n"
   ]
  },
  {
   "cell_type": "code",
   "execution_count": 11,
   "id": "df34c9b5",
   "metadata": {},
   "outputs": [
    {
     "name": "stdout",
     "output_type": "stream",
     "text": [
      "01011001 01101111 01110101 00100000 01100111 01110101 01111001 01110011 00100000 01101000 01100001 01110110 01100101 00100000 01101110 01101111 01110100 01101000 01101001 01101110 01100111 00100000 01110100 01101111 00100000 01100100 01101111 00100001 00100000 01000010 01110101 01110100 00100000 01110100 01101000 01101001 01110011 00100000 01101001 01110011 00100000 01100111 01110010 01100101 01100001 01110100 00100000 01100110 01110101 01101110 00101110\n"
     ]
    }
   ],
   "source": [
    "# Binary to Character\n",
    "binary_string = '01011001 01101111 01110101 00100000 01100111 01110101 01111001 01110011 00100000 01101000 01100001 01110110 01100101 00100000 01101110 01101111 01110100 01101000 01101001 01101110 01100111 00100000 01110100 01101111 00100000 01100100 01101111 00100001 00100000 01000010 01110101 01110100 00100000 01110100 01101000 01101001 01110011 00100000 01101001 01110011 00100000 01100111 01110010 01100101 01100001 01110100 00100000 01100110 01110101 01101110 00101110'\n",
    "characters = ''.join([chr(int(x, 2)) for x in binary_string.split()])\n",
    "print(characters)\n",
    "\n",
    "# Character to Binary\n",
    "text = 'You guys have nothing to do! But this is great fun.'\n",
    "binary_string = ' '.join(format(ord(char), '08b') for char in text)\n",
    "print(binary_string)\n"
   ]
  }
 ],
 "metadata": {
  "kernelspec": {
   "display_name": "Python 3 (ipykernel)",
   "language": "python",
   "name": "python3"
  },
  "language_info": {
   "codemirror_mode": {
    "name": "ipython",
    "version": 3
   },
   "file_extension": ".py",
   "mimetype": "text/x-python",
   "name": "python",
   "nbconvert_exporter": "python",
   "pygments_lexer": "ipython3",
   "version": "3.9.13"
  }
 },
 "nbformat": 4,
 "nbformat_minor": 5
}
